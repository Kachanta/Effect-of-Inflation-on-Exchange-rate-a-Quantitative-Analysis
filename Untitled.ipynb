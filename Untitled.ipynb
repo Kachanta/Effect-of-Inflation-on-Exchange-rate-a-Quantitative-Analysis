{
 "cells": [
  {
   "cell_type": "code",
   "execution_count": null,
   "id": "9277d6cf-5aea-4d59-b6cc-d3133758d734",
   "metadata": {},
   "outputs": [],
   "source": []
  },
  {
   "cell_type": "markdown",
   "id": "e9528233-c9ac-498b-8071-aa27d2847dc0",
   "metadata": {},
   "source": [
    "## Inpoorting relevant packages"
   ]
  },
  {
   "cell_type": "code",
   "execution_count": 1,
   "id": "34eb183c-68be-41dc-b8d8-4adde5d06a92",
   "metadata": {
    "tags": []
   },
   "outputs": [],
   "source": [
    "import pandas as pd\n",
    "import numpy as np\n",
    "import matplotlib.pyplot as plt\n",
    "import seaborn as sns\n",
    "sns.set\n",
    "\n",
    "import warnings\n",
    "warnings.filterwarnings(\"ignore\", category=UserWarning)  # Ignore UserWarning\n",
    "warnings.filterwarnings(\"ignore\", message=\"This is a warning\")  # Ignore by message\n"
   ]
  },
  {
   "cell_type": "markdown",
   "id": "fb48e756-1b56-4ce7-ba2f-5eb08df64d45",
   "metadata": {},
   "source": [
    "## Data Importation and Inspection "
   ]
  },
  {
   "cell_type": "code",
   "execution_count": 2,
   "id": "02e9eb40-9f32-4183-89cc-e6cd10169b3a",
   "metadata": {
    "tags": []
   },
   "outputs": [],
   "source": [
    "exchange = pd.read_csv(\"MonthlyAverageExhRate18032024.csv\")\n",
    "inflation = pd.read_csv(\"InflationRates21032024.csv\")"
   ]
  },
  {
   "cell_type": "code",
   "execution_count": 3,
   "id": "06072f96-855b-4f1b-ac10-ce26a1d76745",
   "metadata": {
    "tags": []
   },
   "outputs": [
    {
     "data": {
      "text/html": [
       "<div>\n",
       "<style scoped>\n",
       "    .dataframe tbody tr th:only-of-type {\n",
       "        vertical-align: middle;\n",
       "    }\n",
       "\n",
       "    .dataframe tbody tr th {\n",
       "        vertical-align: top;\n",
       "    }\n",
       "\n",
       "    .dataframe thead th {\n",
       "        text-align: right;\n",
       "    }\n",
       "</style>\n",
       "<table border=\"1\" class=\"dataframe\">\n",
       "  <thead>\n",
       "    <tr style=\"text-align: right;\">\n",
       "      <th></th>\n",
       "      <th>Year</th>\n",
       "      <th>Month</th>\n",
       "      <th>DAS (USD)</th>\n",
       "      <th>IFEM (USD)</th>\n",
       "      <th>BDC (USD)</th>\n",
       "      <th>GB Pounds</th>\n",
       "      <th>EURO</th>\n",
       "      <th>CFA Franc</th>\n",
       "    </tr>\n",
       "  </thead>\n",
       "  <tbody>\n",
       "    <tr>\n",
       "      <th>2004</th>\n",
       "      <td>1</td>\n",
       "      <td>136.08</td>\n",
       "      <td>137.76</td>\n",
       "      <td>147.65</td>\n",
       "      <td>247.93</td>\n",
       "      <td>171.67</td>\n",
       "      <td>0.16</td>\n",
       "      <td>NaN</td>\n",
       "    </tr>\n",
       "    <tr>\n",
       "      <th>2004</th>\n",
       "      <td>2</td>\n",
       "      <td>135.16</td>\n",
       "      <td>136.44</td>\n",
       "      <td>142.95</td>\n",
       "      <td>252.78</td>\n",
       "      <td>171.09</td>\n",
       "      <td>0.20</td>\n",
       "      <td>NaN</td>\n",
       "    </tr>\n",
       "    <tr>\n",
       "      <th>2004</th>\n",
       "      <td>3</td>\n",
       "      <td>134.47</td>\n",
       "      <td>134.80</td>\n",
       "      <td>139.92</td>\n",
       "      <td>245.47</td>\n",
       "      <td>164.88</td>\n",
       "      <td>0.25</td>\n",
       "      <td>NaN</td>\n",
       "    </tr>\n",
       "    <tr>\n",
       "      <th>2004</th>\n",
       "      <td>4</td>\n",
       "      <td>133.51</td>\n",
       "      <td>137.23</td>\n",
       "      <td>138.85</td>\n",
       "      <td>240.26</td>\n",
       "      <td>159.87</td>\n",
       "      <td>0.24</td>\n",
       "      <td>NaN</td>\n",
       "    </tr>\n",
       "    <tr>\n",
       "      <th>2004</th>\n",
       "      <td>5</td>\n",
       "      <td>133.01</td>\n",
       "      <td>134.81</td>\n",
       "      <td>139.64</td>\n",
       "      <td>237.80</td>\n",
       "      <td>159.75</td>\n",
       "      <td>0.24</td>\n",
       "      <td>NaN</td>\n",
       "    </tr>\n",
       "  </tbody>\n",
       "</table>\n",
       "</div>"
      ],
      "text/plain": [
       "      Year   Month  DAS (USD)  IFEM (USD) BDC (USD)  GB Pounds  EURO  \\\n",
       "2004     1  136.08     137.76      147.65    247.93     171.67  0.16   \n",
       "2004     2  135.16     136.44      142.95    252.78     171.09  0.20   \n",
       "2004     3  134.47     134.80      139.92    245.47     164.88  0.25   \n",
       "2004     4  133.51     137.23      138.85    240.26     159.87  0.24   \n",
       "2004     5  133.01     134.81      139.64    237.80     159.75  0.24   \n",
       "\n",
       "      CFA Franc  \n",
       "2004        NaN  \n",
       "2004        NaN  \n",
       "2004        NaN  \n",
       "2004        NaN  \n",
       "2004        NaN  "
      ]
     },
     "execution_count": 3,
     "metadata": {},
     "output_type": "execute_result"
    }
   ],
   "source": [
    "exchange.head()"
   ]
  },
  {
   "cell_type": "code",
   "execution_count": 4,
   "id": "d2ca53ed-cd61-4585-9e92-e4c0d4481e0b",
   "metadata": {
    "tags": []
   },
   "outputs": [
    {
     "name": "stdout",
     "output_type": "stream",
     "text": [
      "<class 'pandas.core.frame.DataFrame'>\n",
      "Index: 254 entries, 2003 to 2024\n",
      "Data columns (total 10 columns):\n",
      " #   Column                                                            Non-Null Count  Dtype  \n",
      "---  ------                                                            --------------  -----  \n",
      " 0   Year                                                              254 non-null    int64  \n",
      " 1   Month                                                             254 non-null    float64\n",
      " 2   All Items (Year on Change)                                        254 non-null    float64\n",
      " 3   All Items (12 Months Avg. Change)                                 254 non-null    float64\n",
      " 4   Food (Year on Change)/1                                           254 non-null    float64\n",
      " 5   Food (12 Months Avg. Change)/1                                    254 non-null    float64\n",
      " 6   All Items Less Farm Produce (Year on Change)/2                    254 non-null    float64\n",
      " 7   All Items Less Farm Produce (12 Months Avg. Change)/2             254 non-null    float64\n",
      " 8   All Items Less Farm Produce and Energy (Year on Change)/3         254 non-null    float64\n",
      " 9   All Items Less Farm Produce and Energy (12 Months Avg. Change)/3  0 non-null      float64\n",
      "dtypes: float64(9), int64(1)\n",
      "memory usage: 21.8 KB\n"
     ]
    }
   ],
   "source": [
    "inflation.info()"
   ]
  },
  {
   "cell_type": "code",
   "execution_count": 5,
   "id": "8b5e4acf-374f-4fba-9586-99482a0f1526",
   "metadata": {
    "tags": []
   },
   "outputs": [
    {
     "data": {
      "text/html": [
       "<div>\n",
       "<style scoped>\n",
       "    .dataframe tbody tr th:only-of-type {\n",
       "        vertical-align: middle;\n",
       "    }\n",
       "\n",
       "    .dataframe tbody tr th {\n",
       "        vertical-align: top;\n",
       "    }\n",
       "\n",
       "    .dataframe thead th {\n",
       "        text-align: right;\n",
       "    }\n",
       "</style>\n",
       "<table border=\"1\" class=\"dataframe\">\n",
       "  <thead>\n",
       "    <tr style=\"text-align: right;\">\n",
       "      <th></th>\n",
       "      <th>Year</th>\n",
       "      <th>Month</th>\n",
       "      <th>All Items (Year on Change)</th>\n",
       "      <th>All Items (12 Months Avg. Change)</th>\n",
       "      <th>Food (Year on Change)/1</th>\n",
       "      <th>Food (12 Months Avg. Change)/1</th>\n",
       "      <th>All Items Less Farm Produce (Year on Change)/2</th>\n",
       "      <th>All Items Less Farm Produce (12 Months Avg. Change)/2</th>\n",
       "      <th>All Items Less Farm Produce and Energy (Year on Change)/3</th>\n",
       "      <th>All Items Less Farm Produce and Energy (12 Months Avg. Change)/3</th>\n",
       "    </tr>\n",
       "  </thead>\n",
       "  <tbody>\n",
       "    <tr>\n",
       "      <th>count</th>\n",
       "      <td>254.000000</td>\n",
       "      <td>254.000000</td>\n",
       "      <td>254.000000</td>\n",
       "      <td>254.000000</td>\n",
       "      <td>254.000000</td>\n",
       "      <td>254.000000</td>\n",
       "      <td>254.000000</td>\n",
       "      <td>254.000000</td>\n",
       "      <td>254.000000</td>\n",
       "      <td>0.0</td>\n",
       "    </tr>\n",
       "    <tr>\n",
       "      <th>mean</th>\n",
       "      <td>6.460630</td>\n",
       "      <td>13.314882</td>\n",
       "      <td>12.939528</td>\n",
       "      <td>14.255394</td>\n",
       "      <td>13.718465</td>\n",
       "      <td>12.418661</td>\n",
       "      <td>12.210000</td>\n",
       "      <td>11.760039</td>\n",
       "      <td>11.434567</td>\n",
       "      <td>NaN</td>\n",
       "    </tr>\n",
       "    <tr>\n",
       "      <th>std</th>\n",
       "      <td>3.473847</td>\n",
       "      <td>5.246562</td>\n",
       "      <td>4.070764</td>\n",
       "      <td>6.922511</td>\n",
       "      <td>5.570382</td>\n",
       "      <td>6.567190</td>\n",
       "      <td>5.211463</td>\n",
       "      <td>5.317781</td>\n",
       "      <td>4.112336</td>\n",
       "      <td>NaN</td>\n",
       "    </tr>\n",
       "    <tr>\n",
       "      <th>min</th>\n",
       "      <td>1.000000</td>\n",
       "      <td>3.000000</td>\n",
       "      <td>5.400000</td>\n",
       "      <td>-3.700000</td>\n",
       "      <td>1.500000</td>\n",
       "      <td>-0.400000</td>\n",
       "      <td>4.300000</td>\n",
       "      <td>-6.500000</td>\n",
       "      <td>0.600000</td>\n",
       "      <td>NaN</td>\n",
       "    </tr>\n",
       "    <tr>\n",
       "      <th>25%</th>\n",
       "      <td>3.000000</td>\n",
       "      <td>9.425000</td>\n",
       "      <td>10.120000</td>\n",
       "      <td>9.925000</td>\n",
       "      <td>9.925000</td>\n",
       "      <td>8.800000</td>\n",
       "      <td>9.100000</td>\n",
       "      <td>9.020000</td>\n",
       "      <td>9.262500</td>\n",
       "      <td>NaN</td>\n",
       "    </tr>\n",
       "    <tr>\n",
       "      <th>50%</th>\n",
       "      <td>6.000000</td>\n",
       "      <td>12.370000</td>\n",
       "      <td>12.500000</td>\n",
       "      <td>13.560000</td>\n",
       "      <td>13.915000</td>\n",
       "      <td>11.335000</td>\n",
       "      <td>11.300000</td>\n",
       "      <td>11.695000</td>\n",
       "      <td>11.390000</td>\n",
       "      <td>NaN</td>\n",
       "    </tr>\n",
       "    <tr>\n",
       "      <th>75%</th>\n",
       "      <td>9.000000</td>\n",
       "      <td>16.005000</td>\n",
       "      <td>16.057500</td>\n",
       "      <td>18.000000</td>\n",
       "      <td>17.650000</td>\n",
       "      <td>14.575000</td>\n",
       "      <td>13.695000</td>\n",
       "      <td>14.037500</td>\n",
       "      <td>13.100000</td>\n",
       "      <td>NaN</td>\n",
       "    </tr>\n",
       "    <tr>\n",
       "      <th>max</th>\n",
       "      <td>12.000000</td>\n",
       "      <td>31.700000</td>\n",
       "      <td>26.180000</td>\n",
       "      <td>38.500000</td>\n",
       "      <td>30.070000</td>\n",
       "      <td>41.200000</td>\n",
       "      <td>33.200000</td>\n",
       "      <td>27.800000</td>\n",
       "      <td>23.200000</td>\n",
       "      <td>NaN</td>\n",
       "    </tr>\n",
       "  </tbody>\n",
       "</table>\n",
       "</div>"
      ],
      "text/plain": [
       "             Year       Month  All Items (Year on Change)  \\\n",
       "count  254.000000  254.000000                  254.000000   \n",
       "mean     6.460630   13.314882                   12.939528   \n",
       "std      3.473847    5.246562                    4.070764   \n",
       "min      1.000000    3.000000                    5.400000   \n",
       "25%      3.000000    9.425000                   10.120000   \n",
       "50%      6.000000   12.370000                   12.500000   \n",
       "75%      9.000000   16.005000                   16.057500   \n",
       "max     12.000000   31.700000                   26.180000   \n",
       "\n",
       "       All Items (12 Months Avg. Change)  Food (Year on Change)/1  \\\n",
       "count                         254.000000               254.000000   \n",
       "mean                           14.255394                13.718465   \n",
       "std                             6.922511                 5.570382   \n",
       "min                            -3.700000                 1.500000   \n",
       "25%                             9.925000                 9.925000   \n",
       "50%                            13.560000                13.915000   \n",
       "75%                            18.000000                17.650000   \n",
       "max                            38.500000                30.070000   \n",
       "\n",
       "       Food (12 Months Avg. Change)/1  \\\n",
       "count                      254.000000   \n",
       "mean                        12.418661   \n",
       "std                          6.567190   \n",
       "min                         -0.400000   \n",
       "25%                          8.800000   \n",
       "50%                         11.335000   \n",
       "75%                         14.575000   \n",
       "max                         41.200000   \n",
       "\n",
       "       All Items Less Farm Produce (Year on Change)/2  \\\n",
       "count                                      254.000000   \n",
       "mean                                        12.210000   \n",
       "std                                          5.211463   \n",
       "min                                          4.300000   \n",
       "25%                                          9.100000   \n",
       "50%                                         11.300000   \n",
       "75%                                         13.695000   \n",
       "max                                         33.200000   \n",
       "\n",
       "       All Items Less Farm Produce (12 Months Avg. Change)/2  \\\n",
       "count                                         254.000000       \n",
       "mean                                           11.760039       \n",
       "std                                             5.317781       \n",
       "min                                            -6.500000       \n",
       "25%                                             9.020000       \n",
       "50%                                            11.695000       \n",
       "75%                                            14.037500       \n",
       "max                                            27.800000       \n",
       "\n",
       "       All Items Less Farm Produce and Energy (Year on Change)/3  \\\n",
       "count                                         254.000000           \n",
       "mean                                           11.434567           \n",
       "std                                             4.112336           \n",
       "min                                             0.600000           \n",
       "25%                                             9.262500           \n",
       "50%                                            11.390000           \n",
       "75%                                            13.100000           \n",
       "max                                            23.200000           \n",
       "\n",
       "       All Items Less Farm Produce and Energy (12 Months Avg. Change)/3  \n",
       "count                                                0.0                 \n",
       "mean                                                 NaN                 \n",
       "std                                                  NaN                 \n",
       "min                                                  NaN                 \n",
       "25%                                                  NaN                 \n",
       "50%                                                  NaN                 \n",
       "75%                                                  NaN                 \n",
       "max                                                  NaN                 "
      ]
     },
     "execution_count": 5,
     "metadata": {},
     "output_type": "execute_result"
    }
   ],
   "source": [
    "inflation.describe()"
   ]
  },
  {
   "cell_type": "code",
   "execution_count": 6,
   "id": "508971bf-7044-42ba-892a-d45a5288ba3e",
   "metadata": {
    "tags": []
   },
   "outputs": [
    {
     "data": {
      "text/html": [
       "<div>\n",
       "<style scoped>\n",
       "    .dataframe tbody tr th:only-of-type {\n",
       "        vertical-align: middle;\n",
       "    }\n",
       "\n",
       "    .dataframe tbody tr th {\n",
       "        vertical-align: top;\n",
       "    }\n",
       "\n",
       "    .dataframe thead th {\n",
       "        text-align: right;\n",
       "    }\n",
       "</style>\n",
       "<table border=\"1\" class=\"dataframe\">\n",
       "  <thead>\n",
       "    <tr style=\"text-align: right;\">\n",
       "      <th></th>\n",
       "      <th>Year</th>\n",
       "      <th>Month</th>\n",
       "      <th>All Items (Year on Change)</th>\n",
       "      <th>All Items (12 Months Avg. Change)</th>\n",
       "      <th>Food (Year on Change)/1</th>\n",
       "      <th>Food (12 Months Avg. Change)/1</th>\n",
       "      <th>All Items Less Farm Produce (Year on Change)/2</th>\n",
       "      <th>All Items Less Farm Produce (12 Months Avg. Change)/2</th>\n",
       "      <th>All Items Less Farm Produce and Energy (Year on Change)/3</th>\n",
       "      <th>All Items Less Farm Produce and Energy (12 Months Avg. Change)/3</th>\n",
       "    </tr>\n",
       "  </thead>\n",
       "  <tbody>\n",
       "    <tr>\n",
       "      <th>2023</th>\n",
       "      <td>10</td>\n",
       "      <td>27.33</td>\n",
       "      <td>23.44</td>\n",
       "      <td>31.52</td>\n",
       "      <td>26.33</td>\n",
       "      <td>22.69</td>\n",
       "      <td>20.25</td>\n",
       "      <td>22.58</td>\n",
       "      <td>19.98</td>\n",
       "      <td>NaN</td>\n",
       "    </tr>\n",
       "    <tr>\n",
       "      <th>2023</th>\n",
       "      <td>11</td>\n",
       "      <td>28.20</td>\n",
       "      <td>24.01</td>\n",
       "      <td>32.84</td>\n",
       "      <td>27.09</td>\n",
       "      <td>22.55</td>\n",
       "      <td>20.61</td>\n",
       "      <td>22.38</td>\n",
       "      <td>20.35</td>\n",
       "      <td>NaN</td>\n",
       "    </tr>\n",
       "    <tr>\n",
       "      <th>2023</th>\n",
       "      <td>12</td>\n",
       "      <td>28.92</td>\n",
       "      <td>24.66</td>\n",
       "      <td>33.93</td>\n",
       "      <td>27.96</td>\n",
       "      <td>23.07</td>\n",
       "      <td>20.99</td>\n",
       "      <td>23.06</td>\n",
       "      <td>20.76</td>\n",
       "      <td>NaN</td>\n",
       "    </tr>\n",
       "    <tr>\n",
       "      <th>2024</th>\n",
       "      <td>1</td>\n",
       "      <td>29.90</td>\n",
       "      <td>25.35</td>\n",
       "      <td>35.41</td>\n",
       "      <td>28.91</td>\n",
       "      <td>23.44</td>\n",
       "      <td>21.35</td>\n",
       "      <td>23.59</td>\n",
       "      <td>21.15</td>\n",
       "      <td>NaN</td>\n",
       "    </tr>\n",
       "    <tr>\n",
       "      <th>2024</th>\n",
       "      <td>2</td>\n",
       "      <td>31.70</td>\n",
       "      <td>26.18</td>\n",
       "      <td>37.92</td>\n",
       "      <td>30.07</td>\n",
       "      <td>24.67</td>\n",
       "      <td>21.84</td>\n",
       "      <td>25.13</td>\n",
       "      <td>21.72</td>\n",
       "      <td>NaN</td>\n",
       "    </tr>\n",
       "  </tbody>\n",
       "</table>\n",
       "</div>"
      ],
      "text/plain": [
       "      Year  Month  All Items (Year on Change)  \\\n",
       "2023    10  27.33                       23.44   \n",
       "2023    11  28.20                       24.01   \n",
       "2023    12  28.92                       24.66   \n",
       "2024     1  29.90                       25.35   \n",
       "2024     2  31.70                       26.18   \n",
       "\n",
       "      All Items (12 Months Avg. Change)  Food (Year on Change)/1  \\\n",
       "2023                              31.52                    26.33   \n",
       "2023                              32.84                    27.09   \n",
       "2023                              33.93                    27.96   \n",
       "2024                              35.41                    28.91   \n",
       "2024                              37.92                    30.07   \n",
       "\n",
       "      Food (12 Months Avg. Change)/1  \\\n",
       "2023                           22.69   \n",
       "2023                           22.55   \n",
       "2023                           23.07   \n",
       "2024                           23.44   \n",
       "2024                           24.67   \n",
       "\n",
       "      All Items Less Farm Produce (Year on Change)/2  \\\n",
       "2023                                           20.25   \n",
       "2023                                           20.61   \n",
       "2023                                           20.99   \n",
       "2024                                           21.35   \n",
       "2024                                           21.84   \n",
       "\n",
       "      All Items Less Farm Produce (12 Months Avg. Change)/2  \\\n",
       "2023                                              22.58       \n",
       "2023                                              22.38       \n",
       "2023                                              23.06       \n",
       "2024                                              23.59       \n",
       "2024                                              25.13       \n",
       "\n",
       "      All Items Less Farm Produce and Energy (Year on Change)/3  \\\n",
       "2023                                              19.98           \n",
       "2023                                              20.35           \n",
       "2023                                              20.76           \n",
       "2024                                              21.15           \n",
       "2024                                              21.72           \n",
       "\n",
       "      All Items Less Farm Produce and Energy (12 Months Avg. Change)/3  \n",
       "2023                                                NaN                 \n",
       "2023                                                NaN                 \n",
       "2023                                                NaN                 \n",
       "2024                                                NaN                 \n",
       "2024                                                NaN                 "
      ]
     },
     "execution_count": 6,
     "metadata": {},
     "output_type": "execute_result"
    }
   ],
   "source": [
    "inflation.tail()"
   ]
  },
  {
   "cell_type": "code",
   "execution_count": 7,
   "id": "e3b77181-4208-472f-869b-f92ada97fe5a",
   "metadata": {
    "tags": []
   },
   "outputs": [
    {
     "data": {
      "text/html": [
       "<div>\n",
       "<style scoped>\n",
       "    .dataframe tbody tr th:only-of-type {\n",
       "        vertical-align: middle;\n",
       "    }\n",
       "\n",
       "    .dataframe tbody tr th {\n",
       "        vertical-align: top;\n",
       "    }\n",
       "\n",
       "    .dataframe thead th {\n",
       "        text-align: right;\n",
       "    }\n",
       "</style>\n",
       "<table border=\"1\" class=\"dataframe\">\n",
       "  <thead>\n",
       "    <tr style=\"text-align: right;\">\n",
       "      <th></th>\n",
       "      <th>Year</th>\n",
       "      <th>Month</th>\n",
       "      <th>DAS (USD)</th>\n",
       "      <th>IFEM (USD)</th>\n",
       "      <th>BDC (USD)</th>\n",
       "      <th>GB Pounds</th>\n",
       "      <th>EURO</th>\n",
       "      <th>CFA Franc</th>\n",
       "    </tr>\n",
       "  </thead>\n",
       "  <tbody>\n",
       "    <tr>\n",
       "      <th>2004</th>\n",
       "      <td>1</td>\n",
       "      <td>136.08</td>\n",
       "      <td>137.76</td>\n",
       "      <td>147.65</td>\n",
       "      <td>247.93</td>\n",
       "      <td>171.67</td>\n",
       "      <td>0.16</td>\n",
       "      <td>NaN</td>\n",
       "    </tr>\n",
       "    <tr>\n",
       "      <th>2004</th>\n",
       "      <td>2</td>\n",
       "      <td>135.16</td>\n",
       "      <td>136.44</td>\n",
       "      <td>142.95</td>\n",
       "      <td>252.78</td>\n",
       "      <td>171.09</td>\n",
       "      <td>0.20</td>\n",
       "      <td>NaN</td>\n",
       "    </tr>\n",
       "    <tr>\n",
       "      <th>2004</th>\n",
       "      <td>3</td>\n",
       "      <td>134.47</td>\n",
       "      <td>134.80</td>\n",
       "      <td>139.92</td>\n",
       "      <td>245.47</td>\n",
       "      <td>164.88</td>\n",
       "      <td>0.25</td>\n",
       "      <td>NaN</td>\n",
       "    </tr>\n",
       "    <tr>\n",
       "      <th>2004</th>\n",
       "      <td>4</td>\n",
       "      <td>133.51</td>\n",
       "      <td>137.23</td>\n",
       "      <td>138.85</td>\n",
       "      <td>240.26</td>\n",
       "      <td>159.87</td>\n",
       "      <td>0.24</td>\n",
       "      <td>NaN</td>\n",
       "    </tr>\n",
       "    <tr>\n",
       "      <th>2004</th>\n",
       "      <td>5</td>\n",
       "      <td>133.01</td>\n",
       "      <td>134.81</td>\n",
       "      <td>139.64</td>\n",
       "      <td>237.80</td>\n",
       "      <td>159.75</td>\n",
       "      <td>0.24</td>\n",
       "      <td>NaN</td>\n",
       "    </tr>\n",
       "  </tbody>\n",
       "</table>\n",
       "</div>"
      ],
      "text/plain": [
       "      Year   Month  DAS (USD)  IFEM (USD) BDC (USD)  GB Pounds  EURO  \\\n",
       "2004     1  136.08     137.76      147.65    247.93     171.67  0.16   \n",
       "2004     2  135.16     136.44      142.95    252.78     171.09  0.20   \n",
       "2004     3  134.47     134.80      139.92    245.47     164.88  0.25   \n",
       "2004     4  133.51     137.23      138.85    240.26     159.87  0.24   \n",
       "2004     5  133.01     134.81      139.64    237.80     159.75  0.24   \n",
       "\n",
       "      CFA Franc  \n",
       "2004        NaN  \n",
       "2004        NaN  \n",
       "2004        NaN  \n",
       "2004        NaN  \n",
       "2004        NaN  "
      ]
     },
     "execution_count": 7,
     "metadata": {},
     "output_type": "execute_result"
    }
   ],
   "source": [
    "exchange.head()"
   ]
  },
  {
   "cell_type": "code",
   "execution_count": 8,
   "id": "17a667bd-635e-40e3-87d7-168cd3b64bee",
   "metadata": {
    "tags": []
   },
   "outputs": [
    {
     "name": "stdout",
     "output_type": "stream",
     "text": [
      "<class 'pandas.core.frame.DataFrame'>\n",
      "Index: 208 entries, 2004 to 2021\n",
      "Data columns (total 8 columns):\n",
      " #   Column      Non-Null Count  Dtype  \n",
      "---  ------      --------------  -----  \n",
      " 0   Year        208 non-null    int64  \n",
      " 1   Month       134 non-null    float64\n",
      " 2   DAS (USD)   207 non-null    float64\n",
      " 3   IFEM (USD)  208 non-null    float64\n",
      " 4   BDC (USD)   208 non-null    object \n",
      " 5   GB Pounds   208 non-null    float64\n",
      " 6   EURO        208 non-null    float64\n",
      " 7   CFA Franc   0 non-null      float64\n",
      "dtypes: float64(6), int64(1), object(1)\n",
      "memory usage: 14.6+ KB\n"
     ]
    }
   ],
   "source": [
    "exchange.info()"
   ]
  },
  {
   "cell_type": "markdown",
   "id": "ae3f517f-6970-4480-92fb-11581dc2bf35",
   "metadata": {},
   "source": [
    "## Selecting "
   ]
  },
  {
   "cell_type": "code",
   "execution_count": 9,
   "id": "1443353b-768c-467a-a827-515fe851d663",
   "metadata": {},
   "outputs": [],
   "source": [
    "# Converting all float datatypes to 2 significant figure \n",
    "pd.options.display.float_format = '{:,.2f}'.format"
   ]
  },
  {
   "cell_type": "code",
   "execution_count": 45,
   "id": "26eaaf10-6dd6-4a43-806f-6bec2bf8b2d3",
   "metadata": {
    "tags": []
   },
   "outputs": [
    {
     "name": "stderr",
     "output_type": "stream",
     "text": [
      "C:\\Users\\user\\AppData\\Local\\Temp\\ipykernel_8880\\2578275336.py:2: SettingWithCopyWarning: \n",
      "A value is trying to be set on a copy of a slice from a DataFrame\n",
      "\n",
      "See the caveats in the documentation: https://pandas.pydata.org/pandas-docs/stable/user_guide/indexing.html#returning-a-view-versus-a-copy\n",
      "  exchange_data.rename(columns = {\"BDC (USD)\":\"USD\"} , inplace = True)\n"
     ]
    },
    {
     "data": {
      "text/html": [
       "<div>\n",
       "<style scoped>\n",
       "    .dataframe tbody tr th:only-of-type {\n",
       "        vertical-align: middle;\n",
       "    }\n",
       "\n",
       "    .dataframe tbody tr th {\n",
       "        vertical-align: top;\n",
       "    }\n",
       "\n",
       "    .dataframe thead th {\n",
       "        text-align: right;\n",
       "    }\n",
       "</style>\n",
       "<table border=\"1\" class=\"dataframe\">\n",
       "  <thead>\n",
       "    <tr style=\"text-align: right;\">\n",
       "      <th></th>\n",
       "      <th>Year</th>\n",
       "      <th>USD</th>\n",
       "    </tr>\n",
       "  </thead>\n",
       "  <tbody>\n",
       "    <tr>\n",
       "      <th>2004</th>\n",
       "      <td>1</td>\n",
       "      <td>247.93</td>\n",
       "    </tr>\n",
       "    <tr>\n",
       "      <th>2004</th>\n",
       "      <td>2</td>\n",
       "      <td>252.78</td>\n",
       "    </tr>\n",
       "    <tr>\n",
       "      <th>2004</th>\n",
       "      <td>3</td>\n",
       "      <td>245.47</td>\n",
       "    </tr>\n",
       "    <tr>\n",
       "      <th>2004</th>\n",
       "      <td>4</td>\n",
       "      <td>240.26</td>\n",
       "    </tr>\n",
       "    <tr>\n",
       "      <th>2004</th>\n",
       "      <td>5</td>\n",
       "      <td>237.80</td>\n",
       "    </tr>\n",
       "  </tbody>\n",
       "</table>\n",
       "</div>"
      ],
      "text/plain": [
       "      Year     USD\n",
       "2004     1  247.93\n",
       "2004     2  252.78\n",
       "2004     3  245.47\n",
       "2004     4  240.26\n",
       "2004     5  237.80"
      ]
     },
     "execution_count": 45,
     "metadata": {},
     "output_type": "execute_result"
    }
   ],
   "source": [
    "exchange_data = exchange[[\"Year\",\"BDC (USD)\"]]\n",
    "exchange_data.rename(columns = {\"BDC (USD)\":\"USD\"} , inplace = True) \n",
    "exchange_data.head()"
   ]
  },
  {
   "cell_type": "code",
   "execution_count": 11,
   "id": "4efd3927-0fe8-4556-91fd-67a22d44dbd6",
   "metadata": {
    "tags": []
   },
   "outputs": [],
   "source": [
    "inf = inflation[\"All Items (12 Months Avg. Change)\"]"
   ]
  },
  {
   "cell_type": "code",
   "execution_count": 12,
   "id": "9adc8a1e-d549-421c-8760-e1265654984a",
   "metadata": {
    "tags": []
   },
   "outputs": [
    {
     "data": {
      "text/html": [
       "<div>\n",
       "<style scoped>\n",
       "    .dataframe tbody tr th:only-of-type {\n",
       "        vertical-align: middle;\n",
       "    }\n",
       "\n",
       "    .dataframe tbody tr th {\n",
       "        vertical-align: top;\n",
       "    }\n",
       "\n",
       "    .dataframe thead th {\n",
       "        text-align: right;\n",
       "    }\n",
       "</style>\n",
       "<table border=\"1\" class=\"dataframe\">\n",
       "  <thead>\n",
       "    <tr style=\"text-align: right;\">\n",
       "      <th></th>\n",
       "      <th>Year</th>\n",
       "      <th>USD</th>\n",
       "    </tr>\n",
       "  </thead>\n",
       "  <tbody>\n",
       "    <tr>\n",
       "      <th>2004</th>\n",
       "      <td>1</td>\n",
       "      <td>247.93</td>\n",
       "    </tr>\n",
       "    <tr>\n",
       "      <th>2004</th>\n",
       "      <td>2</td>\n",
       "      <td>252.78</td>\n",
       "    </tr>\n",
       "    <tr>\n",
       "      <th>2004</th>\n",
       "      <td>3</td>\n",
       "      <td>245.47</td>\n",
       "    </tr>\n",
       "    <tr>\n",
       "      <th>2004</th>\n",
       "      <td>4</td>\n",
       "      <td>240.26</td>\n",
       "    </tr>\n",
       "    <tr>\n",
       "      <th>2004</th>\n",
       "      <td>5</td>\n",
       "      <td>237.80</td>\n",
       "    </tr>\n",
       "  </tbody>\n",
       "</table>\n",
       "</div>"
      ],
      "text/plain": [
       "      Year     USD\n",
       "2004     1  247.93\n",
       "2004     2  252.78\n",
       "2004     3  245.47\n",
       "2004     4  240.26\n",
       "2004     5  237.80"
      ]
     },
     "execution_count": 12,
     "metadata": {},
     "output_type": "execute_result"
    }
   ],
   "source": [
    "exchange_data.head()"
   ]
  },
  {
   "cell_type": "code",
   "execution_count": 22,
   "id": "5f4337d2-097e-4969-bf22-87744d9b61f2",
   "metadata": {
    "tags": []
   },
   "outputs": [
    {
     "data": {
      "text/plain": [
       "array(['247.93', '252.78', '245.47', '240.26', '237.80', '242.54',\n",
       "       '244.54', '241.61', '237.92', '240.05', '247.14', '256.48',\n",
       "       '249.54', '250.51', '254.40', '251.48', '246.40', '241.77',\n",
       "       '232.38', '237.55', '234.20', '228.38', '214.58', '225.33',\n",
       "       '227.93', '224.40', '222.72', '224.89', '237.23', '234.41',\n",
       "       '234.47', '240.73', '238.67', '242.67', '249.37', '248.89',\n",
       "       '248.55', '247.08', '252.28', '250.57', '256.13', '251.87',\n",
       "       '251.85', '251.97', '242.73', '236.79', '230.09', '229.26',\n",
       "       '231.24', '229.20', '229.18', '231.94', '220.26', '208.09',\n",
       "       '196.90', '179.07', '192.00', '206.19', '210.17', '207.92',\n",
       "       '214.27', '225.42', '239.91', '240.66', '248.60', '247.02',\n",
       "       '239.53', '248.34', '240.98', '239.96', '232.66', '223.26',\n",
       "       '217.36', '219.42', '227.02', '232.94', '232.86', '237.51',\n",
       "       '237.62', '232.78', '236.92', '242.81', '243.95', '249.16',\n",
       "       '250.11', '248.14', '242.51', '247.53', '224.88', '239.15',\n",
       "       '243.45', '244.53', '243.27', '246.98', '246.92', '249.34',\n",
       "       '248.03', '242.42', '243.06', '244.87', '250.86', '250.45',\n",
       "       '248.69', '251.56', '248.72', '241.10', '234.75', '238.49',\n",
       "       '238.34', '241.11', '235.64', '241.35', '251.43', '250.76',\n",
       "       '255.13', '256.59', '257.81', '258.95', '260.67', '262.41',\n",
       "       '263.29', '265.93', '260.12', '254.06', '250.27', '249.96',\n",
       "       '262.86', '254.39', '274.79', '295.60', '294.24', '304.79',\n",
       "       '306.06', '306.41', '307.21', '302.55', '302.26', '299.38',\n",
       "       '295.39', '283.62', '281.79', '280.40', '282.07', '286.33',\n",
       "       '328.53', '388.37', '406.13', '401.08', '375.71', '379.49',\n",
       "       '381.39', '376.32', '381.17', '378.13', '386.92', '395.04',\n",
       "       '391.57', '397.36', '396.08', '408.57', '403.25', '404.45',\n",
       "       '410.48', '422.35', '427.40', '427.26', '428.38', '412.23',\n",
       "       '406.64', '402.76', '394.24', '399.86', '398.86', '395.87',\n",
       "       '389.40', '395.53', '399.02', '404.28', '400.18', '393.98',\n",
       "       '388.93', '382.80', '373.26', '376.06', '388.43', '395.63',\n",
       "       '402.83', '401.22', '397.96', '403.79', '447,92', '443.96',\n",
       "       '452.17', '476.54', '500.38', '494.18', '494.71', '503.49',\n",
       "       '511.67', '519.70', '528.05', '527.48'], dtype=object)"
      ]
     },
     "execution_count": 22,
     "metadata": {},
     "output_type": "execute_result"
    }
   ],
   "source": [
    "exchange_data['USD'].unique()"
   ]
  },
  {
   "cell_type": "code",
   "execution_count": 46,
   "id": "7db0df26-4886-4be8-ba81-b3cf738b538f",
   "metadata": {
    "tags": []
   },
   "outputs": [],
   "source": []
  },
  {
   "cell_type": "code",
   "execution_count": 60,
   "id": "1ec4e7a6-9de2-411e-becc-89fc9d9d8e02",
   "metadata": {
    "tags": []
   },
   "outputs": [
    {
     "data": {
      "text/plain": [
       "2020    447.92\n",
       "Name: USD, dtype: object"
      ]
     },
     "execution_count": 60,
     "metadata": {},
     "output_type": "execute_result"
    }
   ],
   "source": [
    "mask = (exchange_data[\"USD\"] == '447,92')\n",
    "exchange_data.loc[mask,\"USD\"] = '447.92'\n",
    "exchange_data[mask][\"USD\"]"
   ]
  },
  {
   "cell_type": "code",
   "execution_count": 62,
   "id": "b3613fc1-8f5a-4631-a8ac-334f4e98b5e4",
   "metadata": {
    "tags": []
   },
   "outputs": [
    {
     "data": {
      "text/plain": [
       "2004   247.93\n",
       "2004   252.78\n",
       "2004   245.47\n",
       "2004   240.26\n",
       "2004   237.80\n",
       "        ...  \n",
       "2020   511.67\n",
       "2021   519.70\n",
       "2021   528.05\n",
       "2021   528.05\n",
       "2021   527.48\n",
       "Name: USD, Length: 208, dtype: float64"
      ]
     },
     "execution_count": 62,
     "metadata": {},
     "output_type": "execute_result"
    }
   ],
   "source": [
    "exchange_data[\"USD\"].astype(\"float\")"
   ]
  },
  {
   "cell_type": "code",
   "execution_count": 67,
   "id": "3b3756a4-b098-4d05-9101-c4a8c677f712",
   "metadata": {
    "tags": []
   },
   "outputs": [
    {
     "name": "stdout",
     "output_type": "stream",
     "text": [
      "<class 'pandas.core.frame.DataFrame'>\n",
      "Index: 208 entries, 2004 to 2021\n",
      "Data columns (total 2 columns):\n",
      " #   Column  Non-Null Count  Dtype  \n",
      "---  ------  --------------  -----  \n",
      " 0   Year    208 non-null    int64  \n",
      " 1   USD     208 non-null    float64\n",
      "dtypes: float64(1), int64(1)\n",
      "memory usage: 4.9 KB\n"
     ]
    }
   ],
   "source": [
    "exchange_data.info()"
   ]
  },
  {
   "cell_type": "code",
   "execution_count": 69,
   "id": "c42f217e-4977-4395-84e8-4580244280cc",
   "metadata": {
    "tags": []
   },
   "outputs": [
    {
     "data": {
      "text/plain": [
       "2004   244.54\n",
       "2005   238.88\n",
       "2006   234.68\n",
       "2007   248.00\n",
       "2008   218.12\n",
       "2009   230.75\n",
       "2010   229.40\n",
       "2011   242.76\n",
       "2012   247.20\n",
       "2013   243.97\n",
       "2014   258.58\n",
       "2015   295.26\n",
       "2016   339.58\n",
       "2017   394.11\n",
       "2018   408.77\n",
       "2019   391.74\n",
       "2020   460.67\n",
       "2021   525.82\n",
       "Name: USD, dtype: float64"
      ]
     },
     "execution_count": 69,
     "metadata": {},
     "output_type": "execute_result"
    }
   ],
   "source": [
    "exchange_data.groupby(exchange_data.index)[\"USD\"].mean()"
   ]
  },
  {
   "cell_type": "code",
   "execution_count": 71,
   "id": "0fa6596c-b45e-4e1d-8485-c1487b7b5728",
   "metadata": {
    "tags": []
   },
   "outputs": [
    {
     "data": {
      "text/html": [
       "<div>\n",
       "<style scoped>\n",
       "    .dataframe tbody tr th:only-of-type {\n",
       "        vertical-align: middle;\n",
       "    }\n",
       "\n",
       "    .dataframe tbody tr th {\n",
       "        vertical-align: top;\n",
       "    }\n",
       "\n",
       "    .dataframe thead th {\n",
       "        text-align: right;\n",
       "    }\n",
       "</style>\n",
       "<table border=\"1\" class=\"dataframe\">\n",
       "  <thead>\n",
       "    <tr style=\"text-align: right;\">\n",
       "      <th></th>\n",
       "      <th>Unnamed: 0</th>\n",
       "      <th>Year</th>\n",
       "      <th>Inflation_Rate</th>\n",
       "      <th>Exchange_Rate_USD</th>\n",
       "    </tr>\n",
       "  </thead>\n",
       "  <tbody>\n",
       "    <tr>\n",
       "      <th>0</th>\n",
       "      <td>1</td>\n",
       "      <td>2011</td>\n",
       "      <td>10.83</td>\n",
       "      <td>155.79</td>\n",
       "    </tr>\n",
       "    <tr>\n",
       "      <th>1</th>\n",
       "      <td>2</td>\n",
       "      <td>2012</td>\n",
       "      <td>12.22</td>\n",
       "      <td>158.76</td>\n",
       "    </tr>\n",
       "    <tr>\n",
       "      <th>2</th>\n",
       "      <td>3</td>\n",
       "      <td>2013</td>\n",
       "      <td>8.50</td>\n",
       "      <td>159.27</td>\n",
       "    </tr>\n",
       "    <tr>\n",
       "      <th>3</th>\n",
       "      <td>4</td>\n",
       "      <td>2014</td>\n",
       "      <td>7.93</td>\n",
       "      <td>164.88</td>\n",
       "    </tr>\n",
       "    <tr>\n",
       "      <th>4</th>\n",
       "      <td>5</td>\n",
       "      <td>2015</td>\n",
       "      <td>9.53</td>\n",
       "      <td>195.52</td>\n",
       "    </tr>\n",
       "  </tbody>\n",
       "</table>\n",
       "</div>"
      ],
      "text/plain": [
       "   Unnamed: 0  Year  Inflation_Rate  Exchange_Rate_USD\n",
       "0           1  2011           10.83             155.79\n",
       "1           2  2012           12.22             158.76\n",
       "2           3  2013            8.50             159.27\n",
       "3           4  2014            7.93             164.88\n",
       "4           5  2015            9.53             195.52"
      ]
     },
     "execution_count": 71,
     "metadata": {},
     "output_type": "execute_result"
    }
   ],
   "source": [
    "data = pd.read_csv(\"group_d_data.csv\")\n",
    "data.head()"
   ]
  },
  {
   "cell_type": "code",
   "execution_count": 74,
   "id": "e451c6f4-0776-4c81-8cb9-8a6080c0b7ff",
   "metadata": {
    "tags": []
   },
   "outputs": [
    {
     "data": {
      "text/html": [
       "<div>\n",
       "<style scoped>\n",
       "    .dataframe tbody tr th:only-of-type {\n",
       "        vertical-align: middle;\n",
       "    }\n",
       "\n",
       "    .dataframe tbody tr th {\n",
       "        vertical-align: top;\n",
       "    }\n",
       "\n",
       "    .dataframe thead th {\n",
       "        text-align: right;\n",
       "    }\n",
       "</style>\n",
       "<table border=\"1\" class=\"dataframe\">\n",
       "  <thead>\n",
       "    <tr style=\"text-align: right;\">\n",
       "      <th></th>\n",
       "      <th>Inflation_Rate</th>\n",
       "      <th>Exchange_Rate_USD</th>\n",
       "    </tr>\n",
       "  </thead>\n",
       "  <tbody>\n",
       "    <tr>\n",
       "      <th>Inflation_Rate</th>\n",
       "      <td>1.00</td>\n",
       "      <td>0.91</td>\n",
       "    </tr>\n",
       "    <tr>\n",
       "      <th>Exchange_Rate_USD</th>\n",
       "      <td>0.91</td>\n",
       "      <td>1.00</td>\n",
       "    </tr>\n",
       "  </tbody>\n",
       "</table>\n",
       "</div>"
      ],
      "text/plain": [
       "                   Inflation_Rate  Exchange_Rate_USD\n",
       "Inflation_Rate               1.00               0.91\n",
       "Exchange_Rate_USD            0.91               1.00"
      ]
     },
     "execution_count": 74,
     "metadata": {},
     "output_type": "execute_result"
    }
   ],
   "source": [
    "cor = data[['Inflation_Rate','Exchange_Rate_USD']].corr()\n",
    "cor"
   ]
  },
  {
   "cell_type": "code",
   "execution_count": 79,
   "id": "1248520e-9bcc-46a0-9646-8c4aa2fd2daa",
   "metadata": {
    "tags": []
   },
   "outputs": [
    {
     "data": {
      "text/plain": [
       "<Axes: >"
      ]
     },
     "execution_count": 79,
     "metadata": {},
     "output_type": "execute_result"
    },
    {
     "data": {
      "image/png": "[encoded data removed]",
      "text/plain": [
       "<Figure size 640x480 with 2 Axes>"
      ]
     },
     "metadata": {},
     "output_type": "display_data"
    }
   ],
   "source": [
    "sns.heatmap(cor, annot=True)  # Add annotations for correlation values "
   ]
  },
  {
   "cell_type": "code",
   "execution_count": 82,
   "id": "8f796bfe-5cd7-4cb3-90b4-32d18a1800a4",
   "metadata": {
    "tags": []
   },
   "outputs": [
    {
     "data": {
      "text/plain": [
       "<Figure size 640x480 with 0 Axes>"
      ]
     },
     "metadata": {},
     "output_type": "display_data"
    }
   ],
   "source": [
    "# saving the correlation image\n",
    "plt.savefig('heatmap.png', dpi=300, bbox_inches='tight')"
   ]
  }
 ],
 "metadata": {
  "kernelspec": {
   "display_name": "Python 3 (ipykernel)",
   "language": "python",
   "name": "python3"
  },
  "language_info": {
   "codemirror_mode": {
    "name": "ipython",
    "version": 3
   },
   "file_extension": ".py",
   "mimetype": "text/x-python",
   "name": "python",
   "nbconvert_exporter": "python",
   "pygments_lexer": "ipython3",
   "version": "3.11.5"
  }
 },
 "nbformat": 4,
 "nbformat_minor": 5
}
